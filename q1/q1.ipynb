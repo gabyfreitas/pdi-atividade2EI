{
 "cells": [
  {
   "cell_type": "code",
   "execution_count": 10,
   "metadata": {},
   "outputs": [],
   "source": [
    "import cv2\n",
    "import matplotlib.pyplot as plt\n",
    "import numpy as np"
   ]
  },
  {
   "cell_type": "code",
   "execution_count": 16,
   "metadata": {},
   "outputs": [],
   "source": [
    "## implementar a função que identifica a bandeira\n",
    "## a função deve receber uma imagem e retornar a bandeira identificada\n",
    "## a função deve retornar uma lista de tuplas, onde cada tupla contém as coordenadas de um dos cantos da bandeira\n",
    "## [(PAIS, (x1, y2), (x2, y2)`),(PAIS, (x1, y2), (x2, y2)`),(PAIS, (x1, y2), (x2, y2)`),...]\n",
    "\n",
    "def identifica_bandeira(img):\n",
    "    hsv = cv2.cvtColor(img, cv2.COLOR_BGR2HSV)\n",
    "    \n",
    "    bandeiras_encontradas = []\n",
    "    vermelho_baixo1 = np.array([0, 120, 100])\n",
    "    vermelho_alto1 = np.array([10, 255, 255])\n",
    "    vermelho_baixo2 = np.array([170, 120, 100])\n",
    "    vermelho_alto2 = np.array([180, 255, 255])\n",
    "    branco_baixo = np.array([0, 0, 200])\n",
    "    branco_alto = np.array([180, 30, 255])\n",
    "    verde_baixo = np.array([35, 100, 100])\n",
    "    verde_alto = np.array([85, 255, 255])\n",
    "    laranja_baixo = np.array([10, 100, 100])\n",
    "    laranja_alto = np.array([25, 255, 255])\n",
    "    \n",
    "\n",
    "    mask_vermelho = cv2.inRange(hsv, vermelho_baixo1, vermelho_alto1) + cv2.inRange(hsv, vermelho_baixo2, vermelho_alto2)\n",
    "    mask_branco = cv2.inRange(hsv, branco_baixo, branco_alto)\n",
    "    mask_verde = cv2.inRange(hsv, verde_baixo, verde_alto)\n",
    "    mask_laranja = cv2.inRange(hsv, laranja_baixo, laranja_alto)\n",
    "    \n",
    "    mask_total = mask_vermelho | mask_branco | mask_verde | mask_laranja\n",
    "    \n",
    "    contornos, _ = cv2.findContours(mask_total, cv2.RETR_EXTERNAL, cv2.CHAIN_APPROX_SIMPLE)\n",
    "    \n",
    "    for contorno in contornos:\n",
    "        if cv2.contourArea(contorno) < 500:\n",
    "            continue\n",
    "        \n",
    "        x, y, w, h = cv2.boundingRect(contorno)\n",
    "        x1, y1 = x, y  \n",
    "        x2, y2 = x + w, y + h  \n",
    "        \n",
    "        regiao_hsv = hsv[y:y+h, x:x+w]\n",
    "       \n",
    "        total_pixels = w * h\n",
    "        vermelho_pixels = cv2.countNonZero(cv2.inRange(regiao_hsv, vermelho_baixo1, vermelho_alto1) + cv2.inRange(regiao_hsv, vermelho_baixo2, vermelho_alto2))\n",
    "        branco_pixels = cv2.countNonZero(cv2.inRange(regiao_hsv, branco_baixo, branco_alto))\n",
    "        verde_pixels = cv2.countNonZero(cv2.inRange(regiao_hsv, verde_baixo, verde_alto))\n",
    "        laranja_pixels = cv2.countNonZero(cv2.inRange(regiao_hsv, laranja_baixo, laranja_alto))\n",
    "        \n",
    "        proporcao_vermelho = vermelho_pixels / total_pixels\n",
    "        proporcao_branco = branco_pixels / total_pixels\n",
    "        proporcao_verde = verde_pixels / total_pixels\n",
    "        proporcao_laranja = laranja_pixels / total_pixels\n",
    "        \n",
    "        if proporcao_vermelho > 0.4 and proporcao_branco > 0.4 and proporcao_verde < 0.1 and proporcao_laranja < 0.1:\n",
    "            pais = \"monaco\"\n",
    "        elif proporcao_vermelho > 0.5 and proporcao_branco > 0.2 and proporcao_verde < 0.1 and proporcao_laranja < 0.1:\n",
    "            pais = \"peru\"\n",
    "        elif proporcao_vermelho > 0.3 and proporcao_branco > 0.3 and proporcao_verde < 0.1 and proporcao_laranja < 0.1 and w > h:\n",
    "            pais = \"singapura\"\n",
    "        elif proporcao_verde > 0.2 and proporcao_branco > 0.2 and proporcao_laranja > 0.2 and proporcao_vermelho < 0.1:\n",
    "            pais = \"irlanda\"\n",
    "        elif proporcao_verde > 0.2 and proporcao_branco > 0.2 and proporcao_vermelho > 0.2 and proporcao_laranja < 0.1:\n",
    "            pais = \"italia\"\n",
    "        else:\n",
    "            pais = \"desconhecido\"\n",
    "        \n",
    "        bandeiras_encontradas.append((pais, (x1, y1), (x2, y2)))\n",
    "    \n",
    "    return bandeiras_encontradas\n",
    "\n",
    "\n"
   ]
  },
  {
   "cell_type": "code",
   "execution_count": null,
   "metadata": {},
   "outputs": [],
   "source": []
  },
  {
   "cell_type": "code",
   "execution_count": null,
   "metadata": {},
   "outputs": [],
   "source": []
  },
  {
   "cell_type": "code",
   "execution_count": 33,
   "metadata": {},
   "outputs": [],
   "source": [
    "## nao alterar essa função\n",
    "# Função para desenhar as bandeiras identificadas\n",
    "def draw_bandeiras(lista_bandeiras, bgr):\n",
    "    try:\n",
    "        for bandeira in lista_bandeiras:\n",
    "            cv2.rectangle(bgr, bandeira[1], bandeira[2], (255, 0, 0), 5)\n",
    "            cv2.putText(bgr, bandeira[0], bandeira[1], cv2.FONT_HERSHEY_SIMPLEX, 1, (255, 0, 0), 2, cv2.LINE_AA)\n",
    "        return bgr\n",
    "    except Exception as e:\n",
    "        return bgr"
   ]
  },
  {
   "cell_type": "code",
   "execution_count": null,
   "metadata": {},
   "outputs": [],
   "source": [
    "## Para testar a função identifica_bandeira\n",
    "\n",
    "# Você pode testar a função identifica_bandeira com as imagens de teste fornecidas\n",
    "# \n",
    "img = cv2.imread('img/teste1.png')\n",
    "# img = cv2.imread('img/teste2.png')\n",
    "# img = cv2.imread('img/teste3.png')\n",
    "# img = cv2.imread('img/teste4.png')\n",
    "\n",
    "# Chamar a função identifica_bandeira\n",
    "resultado = identifica_bandeira(img)\n",
    "\n",
    "# Imprimir o resultado da função identifica_bandeira \n",
    "print(resultado)\n",
    "\n",
    "# Desenhar as bandeiras na imagem\n",
    "bgr = draw_bandeiras(resultado, img)\n",
    "plt.imshow(cv2.cvtColor(bgr, cv2.COLOR_BGR2RGB))\n",
    "plt.show()\n",
    "\n",
    "\n"
   ]
  },
  {
   "cell_type": "code",
   "execution_count": null,
   "metadata": {},
   "outputs": [],
   "source": []
  },
  {
   "cell_type": "code",
   "execution_count": null,
   "metadata": {},
   "outputs": [],
   "source": []
  }
 ],
 "metadata": {
  "kernelspec": {
   "display_name": "Python 3",
   "language": "python",
   "name": "python3"
  },
  "language_info": {
   "codemirror_mode": {
    "name": "ipython",
    "version": 3
   },
   "file_extension": ".py",
   "mimetype": "text/x-python",
   "name": "python",
   "nbconvert_exporter": "python",
   "pygments_lexer": "ipython3",
   "version": "3.9.6"
  }
 },
 "nbformat": 4,
 "nbformat_minor": 2
}
